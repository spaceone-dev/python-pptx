{
 "cells": [
  {
   "cell_type": "code",
   "execution_count": 6,
   "metadata": {
    "collapsed": true
   },
   "outputs": [],
   "source": [
    "test_master_file = '/Users/mzc01-sinsky/code/python-pptx/table_placeholder.pptx'\n",
    "target_file = '/Users/mzc01-sinsky/code/python-pptx/clean.pptx'"
   ]
  },
  {
   "cell_type": "code",
   "execution_count": 7,
   "outputs": [],
   "source": [
    "from pptx import Presentation\n",
    "master = Presentation(test_master_file)\n",
    "clean_slide_layout = master.slide_layouts.get_by_name('origin_layout')"
   ],
   "metadata": {
    "collapsed": false,
    "pycharm": {
     "name": "#%%\n"
    }
   }
  },
  {
   "cell_type": "code",
   "execution_count": 8,
   "outputs": [],
   "source": [
    "slide = master.slides.add_slide(clean_slide_layout)\n",
    "target_layout = master.slide_layouts.get_by_name('origin_layout_layer')\n",
    "\n",
    "# target_layout = master.slide_layouts.get_by_name('table_text_only')\n",
    "# "
   ],
   "metadata": {
    "collapsed": false,
    "pycharm": {
     "name": "#%%\n"
    }
   }
  },
  {
   "cell_type": "code",
   "execution_count": 9,
   "outputs": [
    {
     "name": "stdout",
     "output_type": "stream",
     "text": [
      "chart\n"
     ]
    }
   ],
   "source": [
    "# chart = target_layout.shapes[2]\n",
    "\n",
    "for shape in target_layout.shapes:\n",
    "    if not shape.is_placeholder and shape.has_chart:\n",
    "        chart_shape = shape\n",
    "        print(shape.name)\n",
    "        slide.shapes.clone_shape(shape)"
   ],
   "metadata": {
    "collapsed": false,
    "pycharm": {
     "name": "#%%\n"
    }
   }
  },
  {
   "cell_type": "code",
   "execution_count": 12,
   "outputs": [],
   "source": [
    "chart = target_layout.shapes[2]\n",
    "\n",
    "# master.save(target_file)\n",
    "\n"
   ],
   "metadata": {
    "collapsed": false,
    "pycharm": {
     "name": "#%%\n"
    }
   }
  },
  {
   "cell_type": "code",
   "execution_count": 14,
   "outputs": [
    {
     "data": {
      "text/plain": "{'rId2': <pptx.opc.package._Relationship at 0x106bc3a30>,\n 'rId1': <pptx.opc.package._Relationship at 0x106bc3850>}"
     },
     "execution_count": 14,
     "metadata": {},
     "output_type": "execute_result"
    }
   ],
   "source": [],
   "metadata": {
    "collapsed": false,
    "pycharm": {
     "name": "#%%\n"
    }
   }
  },
  {
   "cell_type": "code",
   "execution_count": null,
   "outputs": [],
   "source": [
    "\n"
   ],
   "metadata": {
    "collapsed": false,
    "pycharm": {
     "name": "#%%\n"
    }
   }
  }
 ],
 "metadata": {
  "kernelspec": {
   "display_name": "Python 3",
   "language": "python",
   "name": "python3"
  },
  "language_info": {
   "codemirror_mode": {
    "name": "ipython",
    "version": 2
   },
   "file_extension": ".py",
   "mimetype": "text/x-python",
   "name": "python",
   "nbconvert_exporter": "python",
   "pygments_lexer": "ipython2",
   "version": "2.7.6"
  }
 },
 "nbformat": 4,
 "nbformat_minor": 0
}